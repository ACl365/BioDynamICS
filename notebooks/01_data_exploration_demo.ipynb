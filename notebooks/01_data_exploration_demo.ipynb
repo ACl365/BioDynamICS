{
 "cells": [
  {
   "cell_type": "markdown",
   "metadata": {},
   "source": [
    "# BioDynamICS: Data Exploration\n",
    "\n",
    "This notebook performs initial data exploration on the MIMIC-III demo dataset to understand its structure and characteristics."
   ]
  },
  {
   "cell_type": "code",
   "execution_count": 24,
   "metadata": {},
   "outputs": [
    {
     "data": {
      "application/javascript": [
       "\n",
       "    var hidden_cells = document.querySelectorAll('.cell .input + div[data-hidden]');\n",
       "    hidden_cells.forEach(function(cell) {\n",
       "        cell.style.display = 'block';\n",
       "    });\n",
       "    "
      ],
      "text/plain": [
       "<IPython.core.display.Javascript object>"
      ]
     },
     "metadata": {},
     "output_type": "display_data"
    }
   ],
   "source": [
    "from IPython.display import display, Javascript\n",
    "\n",
    "def toggle_hidden_cells(state):\n",
    "    display(Javascript(f\"\"\"\n",
    "    var hidden_cells = document.querySelectorAll('.cell .input + div[data-hidden]');\n",
    "    hidden_cells.forEach(function(cell) {{\n",
    "        cell.style.display = '{state}';\n",
    "    }});\n",
    "    \"\"\"))\n",
    "\n",
    "# Set 'block' to show all cells or 'none' to hide all cells\n",
    "toggle_hidden_cells('block')\n",
    "\n"
   ]
  },
  {
   "cell_type": "code",
   "execution_count": 25,
   "metadata": {},
   "outputs": [],
   "source": [
    "import os\n",
    "import sys\n",
    "import pandas as pd\n",
    "import numpy as np\n",
    "import matplotlib.pyplot as plt\n",
    "import seaborn as sns\n",
    "\n",
    "# Add the parent directory to path so we can import our modules\n",
    "module_path = os.path.abspath(os.path.join('..'))\n",
    "if module_path not in sys.path:\n",
    "    sys.path.append(module_path)\n",
    "\n",
    "# Import our data integration module\n",
    "from src.data_integration import MimicPatientIntegrator"
   ]
  },
  {
   "cell_type": "code",
   "execution_count": 26,
   "metadata": {},
   "outputs": [],
   "source": [
    "# Configure visualization settings\n",
    "plt.style.use('seaborn-v0_8-whitegrid')\n",
    "sns.set(style=\"whitegrid\")\n",
    "plt.rcParams['figure.figsize'] = [12, 6]\n",
    "plt.rcParams['font.size'] = 12"
   ]
  },
  {
   "cell_type": "code",
   "execution_count": 27,
   "metadata": {},
   "outputs": [
    {
     "name": "stdout",
     "output_type": "stream",
     "text": [
      "[2025-03-14 17:26:15] Initialized MimicPatientIntegrator\n",
      "[2025-03-14 17:26:15] Loaded PATIENTS: 100 rows\n",
      "[2025-03-14 17:26:15] Loaded ADMISSIONS: 129 rows\n",
      "[2025-03-14 17:26:15] Loaded ICUSTAYS: 136 rows\n",
      "[2025-03-14 17:26:15] Created patient stays table: 136 rows\n"
     ]
    }
   ],
   "source": [
    "# Initialize data integrator\n",
    "data_path = data_path = r\"C:\\Users\\alex5\\Documents\\Projects\\MIMIC- III\\biodynimcs\\data\\mimic-iii-clinical-database-demo-1.4\"\n",
    "mimic = MimicPatientIntegrator(data_path)\n",
    "\n",
    "# Load core tables\n",
    "patient_stays = mimic.load_core_tables()"
   ]
  },
  {
   "cell_type": "code",
   "execution_count": 28,
   "metadata": {},
   "outputs": [
    {
     "name": "stdout",
     "output_type": "stream",
     "text": [
      "Loading CHARTEVENTS in chunks...\n",
      "[2025-03-14 17:26:18] Processing CHARTEVENTS.csv (74.1 MB)\n",
      "[2025-03-14 17:26:18] Processed chunk 1 with 10000 rows. Total: 10000 rows\n",
      "[2025-03-14 17:26:18] Processed chunk 2 with 10000 rows. Total: 20000 rows\n",
      "[2025-03-14 17:26:18] Processed chunk 3 with 10000 rows. Total: 30000 rows\n",
      "[2025-03-14 17:26:18] Processed chunk 4 with 10000 rows. Total: 40000 rows\n",
      "[2025-03-14 17:26:18] Processed chunk 5 with 10000 rows. Total: 50000 rows\n",
      "[2025-03-14 17:26:18] Processed chunk 6 with 10000 rows. Total: 60000 rows\n",
      "[2025-03-14 17:26:18] Processed chunk 7 with 10000 rows. Total: 70000 rows\n",
      "[2025-03-14 17:26:18] Processed chunk 8 with 10000 rows. Total: 80000 rows\n",
      "[2025-03-14 17:26:18] Processed chunk 9 with 10000 rows. Total: 90000 rows\n",
      "[2025-03-14 17:26:18] Processed chunk 10 with 10000 rows. Total: 100000 rows\n",
      "[2025-03-14 17:26:18] Processed chunk 11 with 10000 rows. Total: 110000 rows\n",
      "[2025-03-14 17:26:18] Processed chunk 12 with 10000 rows. Total: 120000 rows\n",
      "[2025-03-14 17:26:18] Processed chunk 13 with 10000 rows. Total: 130000 rows\n",
      "[2025-03-14 17:26:18] Processed chunk 14 with 10000 rows. Total: 140000 rows\n",
      "[2025-03-14 17:26:18] Processed chunk 15 with 10000 rows. Total: 150000 rows\n",
      "[2025-03-14 17:26:18] Processed chunk 16 with 10000 rows. Total: 160000 rows\n",
      "[2025-03-14 17:26:18] Processed chunk 17 with 10000 rows. Total: 170000 rows\n",
      "[2025-03-14 17:26:18] Processed chunk 18 with 10000 rows. Total: 180000 rows\n",
      "[2025-03-14 17:26:18] Processed chunk 19 with 10000 rows. Total: 190000 rows\n",
      "[2025-03-14 17:26:18] Processed chunk 20 with 10000 rows. Total: 200000 rows\n",
      "[2025-03-14 17:26:18] Processed chunk 21 with 10000 rows. Total: 210000 rows\n",
      "[2025-03-14 17:26:18] Processed chunk 22 with 10000 rows. Total: 220000 rows\n",
      "[2025-03-14 17:26:18] Processed chunk 23 with 10000 rows. Total: 230000 rows\n",
      "[2025-03-14 17:26:18] Processed chunk 24 with 10000 rows. Total: 240000 rows\n",
      "[2025-03-14 17:26:18] Processed chunk 25 with 10000 rows. Total: 250000 rows\n",
      "[2025-03-14 17:26:18] Processed chunk 26 with 10000 rows. Total: 260000 rows\n",
      "[2025-03-14 17:26:18] Processed chunk 27 with 10000 rows. Total: 270000 rows\n",
      "[2025-03-14 17:26:18] Processed chunk 28 with 10000 rows. Total: 280000 rows\n",
      "[2025-03-14 17:26:18] Processed chunk 29 with 10000 rows. Total: 290000 rows\n",
      "[2025-03-14 17:26:18] Processed chunk 30 with 10000 rows. Total: 300000 rows\n",
      "[2025-03-14 17:26:18] Processed chunk 31 with 10000 rows. Total: 310000 rows\n",
      "[2025-03-14 17:26:18] Processed chunk 32 with 10000 rows. Total: 320000 rows\n",
      "[2025-03-14 17:26:18] Processed chunk 33 with 10000 rows. Total: 330000 rows\n",
      "[2025-03-14 17:26:18] Processed chunk 34 with 10000 rows. Total: 340000 rows\n",
      "[2025-03-14 17:26:18] Processed chunk 35 with 10000 rows. Total: 350000 rows\n",
      "[2025-03-14 17:26:18] Processed chunk 36 with 10000 rows. Total: 360000 rows\n",
      "[2025-03-14 17:26:18] Processed chunk 37 with 10000 rows. Total: 370000 rows\n",
      "[2025-03-14 17:26:18] Processed chunk 38 with 10000 rows. Total: 380000 rows\n",
      "[2025-03-14 17:26:18] Processed chunk 39 with 10000 rows. Total: 390000 rows\n",
      "[2025-03-14 17:26:18] Processed chunk 40 with 10000 rows. Total: 400000 rows\n",
      "[2025-03-14 17:26:18] Processed chunk 41 with 10000 rows. Total: 410000 rows\n",
      "[2025-03-14 17:26:18] Processed chunk 42 with 10000 rows. Total: 420000 rows\n",
      "[2025-03-14 17:26:18] Processed chunk 43 with 10000 rows. Total: 430000 rows\n",
      "[2025-03-14 17:26:18] Processed chunk 44 with 10000 rows. Total: 440000 rows\n",
      "[2025-03-14 17:26:18] Processed chunk 45 with 10000 rows. Total: 450000 rows\n",
      "[2025-03-14 17:26:18] Processed chunk 46 with 10000 rows. Total: 460000 rows\n",
      "[2025-03-14 17:26:18] Processed chunk 47 with 10000 rows. Total: 470000 rows\n",
      "[2025-03-14 17:26:18] Processed chunk 48 with 10000 rows. Total: 480000 rows\n",
      "[2025-03-14 17:26:18] Processed chunk 49 with 10000 rows. Total: 490000 rows\n",
      "[2025-03-14 17:26:18] Processed chunk 50 with 10000 rows. Total: 500000 rows\n",
      "[2025-03-14 17:26:18] Processed chunk 51 with 10000 rows. Total: 510000 rows\n",
      "[2025-03-14 17:26:18] Processed chunk 52 with 10000 rows. Total: 520000 rows\n",
      "[2025-03-14 17:26:18] Processed chunk 53 with 10000 rows. Total: 530000 rows\n",
      "[2025-03-14 17:26:18] Processed chunk 54 with 10000 rows. Total: 540000 rows\n",
      "[2025-03-14 17:26:18] Processed chunk 55 with 10000 rows. Total: 550000 rows\n",
      "[2025-03-14 17:26:18] Processed chunk 56 with 10000 rows. Total: 560000 rows\n",
      "[2025-03-14 17:26:18] Processed chunk 57 with 10000 rows. Total: 570000 rows\n",
      "[2025-03-14 17:26:18] Processed chunk 58 with 10000 rows. Total: 580000 rows\n",
      "[2025-03-14 17:26:18] Processed chunk 59 with 10000 rows. Total: 590000 rows\n",
      "[2025-03-14 17:26:18] Processed chunk 60 with 10000 rows. Total: 600000 rows\n",
      "[2025-03-14 17:26:18] Processed chunk 61 with 10000 rows. Total: 610000 rows\n",
      "[2025-03-14 17:26:18] Processed chunk 62 with 10000 rows. Total: 620000 rows\n",
      "[2025-03-14 17:26:18] Processed chunk 63 with 10000 rows. Total: 630000 rows\n",
      "[2025-03-14 17:26:18] Processed chunk 64 with 10000 rows. Total: 640000 rows\n",
      "[2025-03-14 17:26:18] Processed chunk 65 with 10000 rows. Total: 650000 rows\n",
      "[2025-03-14 17:26:18] Processed chunk 66 with 10000 rows. Total: 660000 rows\n",
      "[2025-03-14 17:26:18] Processed chunk 67 with 10000 rows. Total: 670000 rows\n",
      "[2025-03-14 17:26:18] Processed chunk 68 with 10000 rows. Total: 680000 rows\n",
      "[2025-03-14 17:26:18] Processed chunk 69 with 10000 rows. Total: 690000 rows\n",
      "[2025-03-14 17:26:18] Processed chunk 70 with 10000 rows. Total: 700000 rows\n",
      "[2025-03-14 17:26:18] Processed chunk 71 with 10000 rows. Total: 710000 rows\n",
      "[2025-03-14 17:26:19] Processed chunk 72 with 10000 rows. Total: 720000 rows\n",
      "[2025-03-14 17:26:19] Processed chunk 73 with 10000 rows. Total: 730000 rows\n",
      "[2025-03-14 17:26:19] Processed chunk 74 with 10000 rows. Total: 740000 rows\n",
      "[2025-03-14 17:26:19] Processed chunk 75 with 10000 rows. Total: 750000 rows\n",
      "[2025-03-14 17:26:19] Processed chunk 76 with 8355 rows. Total: 758355 rows\n",
      "[2025-03-14 17:26:19] Completed loading CHARTEVENTS with 758355 rows\n",
      "Loading LABEVENTS...\n",
      "[2025-03-14 17:26:19] Loaded LABEVENTS: 76074 rows\n",
      "Loading PRESCRIPTIONS...\n",
      "[2025-03-14 17:26:19] Loaded PRESCRIPTIONS: 10398 rows\n",
      "Loading MICROBIOLOGYEVENTS...\n",
      "[2025-03-14 17:26:19] Loaded MICROBIOLOGYEVENTS: 2003 rows\n",
      "Loading OUTPUTEVENTS...\n",
      "[2025-03-14 17:26:19] Loaded OUTPUTEVENTS: 11320 rows\n",
      "Loading INPUTEVENTS_CV...\n",
      "[2025-03-14 17:26:19] Loaded INPUTEVENTS_CV: 34799 rows\n",
      "Loading INPUTEVENTS_MV...\n",
      "[2025-03-14 17:26:19] Loaded INPUTEVENTS_MV: 13224 rows\n",
      "Loading PROCEDURES_ICD...\n",
      "[2025-03-14 17:26:19] Loaded PROCEDURES_ICD: 506 rows\n",
      "Loading DIAGNOSES_ICD...\n",
      "[2025-03-14 17:26:19] Loaded DIAGNOSES_ICD: 1761 rows\n",
      "Loading DATETIMEEVENTS...\n",
      "[2025-03-14 17:26:19] Loaded DATETIMEEVENTS: 15551 rows\n",
      "Loading CPTEVENTS...\n",
      "[2025-03-14 17:26:19] Loaded CPTEVENTS: 1579 rows\n",
      "Loading TRANSFERS...\n",
      "[2025-03-14 17:26:19] Loaded TRANSFERS: 524 rows\n",
      "Loading SERVICES...\n",
      "[2025-03-14 17:26:19] Loaded SERVICES: 163 rows\n",
      "Loading DRGCODES...\n",
      "[2025-03-14 17:26:19] Loaded DRGCODES: 297 rows\n"
     ]
    },
    {
     "name": "stderr",
     "output_type": "stream",
     "text": [
      "C:\\Users\\alex5\\Documents\\Projects\\MIMIC- III\\biodynimcs\\src\\data_integration.py:42: DtypeWarning: Columns (17,20,21) have mixed types. Specify dtype option on import or set low_memory=False.\n",
      "  self.tables[table_name] = pd.read_csv(file_path)\n"
     ]
    }
   ],
   "source": [
    "# Load CHARTEVENTS in chunks (since it's large)\n",
    "print(\"Loading CHARTEVENTS in chunks...\")\n",
    "chartevents = mimic.load_chartevents_chunked(chunk_size=10000)\n",
    "\n",
    "# Load all other available tables\n",
    "available_tables = [\n",
    "    \"LABEVENTS\", \"PRESCRIPTIONS\", \"MICROBIOLOGYEVENTS\", \n",
    "    \"OUTPUTEVENTS\", \"INPUTEVENTS_CV\", \"INPUTEVENTS_MV\", \n",
    "    \"PROCEDURES_ICD\", \"DIAGNOSES_ICD\", \"DATETIMEEVENTS\",\n",
    "    \"CPTEVENTS\", \"TRANSFERS\", \"SERVICES\", \"DRGCODES\"\n",
    "]\n",
    "\n",
    "# Load each table\n",
    "for table in available_tables:\n",
    "    print(f\"Loading {table}...\")\n",
    "    mimic.load_table(table)"
   ]
  },
  {
   "cell_type": "markdown",
   "metadata": {},
   "source": [
    "## Exploring Patient Demographics"
   ]
  },
  {
   "cell_type": "code",
   "execution_count": 29,
   "metadata": {},
   "outputs": [
    {
     "data": {
      "text/html": [
       "<div>\n",
       "<style scoped>\n",
       "    .dataframe tbody tr th:only-of-type {\n",
       "        vertical-align: middle;\n",
       "    }\n",
       "\n",
       "    .dataframe tbody tr th {\n",
       "        vertical-align: top;\n",
       "    }\n",
       "\n",
       "    .dataframe thead th {\n",
       "        text-align: right;\n",
       "    }\n",
       "</style>\n",
       "<table border=\"1\" class=\"dataframe\">\n",
       "  <thead>\n",
       "    <tr style=\"text-align: right;\">\n",
       "      <th></th>\n",
       "      <th>row_id</th>\n",
       "      <th>subject_id</th>\n",
       "      <th>gender</th>\n",
       "      <th>dob</th>\n",
       "      <th>dod</th>\n",
       "      <th>dod_hosp</th>\n",
       "      <th>dod_ssn</th>\n",
       "      <th>expire_flag</th>\n",
       "    </tr>\n",
       "  </thead>\n",
       "  <tbody>\n",
       "    <tr>\n",
       "      <th>0</th>\n",
       "      <td>9467</td>\n",
       "      <td>10006</td>\n",
       "      <td>F</td>\n",
       "      <td>2094-03-05 00:00:00</td>\n",
       "      <td>2165-08-12 00:00:00</td>\n",
       "      <td>2165-08-12 00:00:00</td>\n",
       "      <td>2165-08-12 00:00:00</td>\n",
       "      <td>1</td>\n",
       "    </tr>\n",
       "    <tr>\n",
       "      <th>1</th>\n",
       "      <td>9472</td>\n",
       "      <td>10011</td>\n",
       "      <td>F</td>\n",
       "      <td>2090-06-05 00:00:00</td>\n",
       "      <td>2126-08-28 00:00:00</td>\n",
       "      <td>2126-08-28 00:00:00</td>\n",
       "      <td>NaN</td>\n",
       "      <td>1</td>\n",
       "    </tr>\n",
       "    <tr>\n",
       "      <th>2</th>\n",
       "      <td>9474</td>\n",
       "      <td>10013</td>\n",
       "      <td>F</td>\n",
       "      <td>2038-09-03 00:00:00</td>\n",
       "      <td>2125-10-07 00:00:00</td>\n",
       "      <td>2125-10-07 00:00:00</td>\n",
       "      <td>2125-10-07 00:00:00</td>\n",
       "      <td>1</td>\n",
       "    </tr>\n",
       "    <tr>\n",
       "      <th>3</th>\n",
       "      <td>9478</td>\n",
       "      <td>10017</td>\n",
       "      <td>F</td>\n",
       "      <td>2075-09-21 00:00:00</td>\n",
       "      <td>2152-09-12 00:00:00</td>\n",
       "      <td>NaN</td>\n",
       "      <td>2152-09-12 00:00:00</td>\n",
       "      <td>1</td>\n",
       "    </tr>\n",
       "    <tr>\n",
       "      <th>4</th>\n",
       "      <td>9479</td>\n",
       "      <td>10019</td>\n",
       "      <td>M</td>\n",
       "      <td>2114-06-20 00:00:00</td>\n",
       "      <td>2163-05-15 00:00:00</td>\n",
       "      <td>2163-05-15 00:00:00</td>\n",
       "      <td>2163-05-15 00:00:00</td>\n",
       "      <td>1</td>\n",
       "    </tr>\n",
       "  </tbody>\n",
       "</table>\n",
       "</div>"
      ],
      "text/plain": [
       "   row_id  subject_id gender                  dob                  dod  \\\n",
       "0    9467       10006      F  2094-03-05 00:00:00  2165-08-12 00:00:00   \n",
       "1    9472       10011      F  2090-06-05 00:00:00  2126-08-28 00:00:00   \n",
       "2    9474       10013      F  2038-09-03 00:00:00  2125-10-07 00:00:00   \n",
       "3    9478       10017      F  2075-09-21 00:00:00  2152-09-12 00:00:00   \n",
       "4    9479       10019      M  2114-06-20 00:00:00  2163-05-15 00:00:00   \n",
       "\n",
       "              dod_hosp              dod_ssn  expire_flag  \n",
       "0  2165-08-12 00:00:00  2165-08-12 00:00:00            1  \n",
       "1  2126-08-28 00:00:00                  NaN            1  \n",
       "2  2125-10-07 00:00:00  2125-10-07 00:00:00            1  \n",
       "3                  NaN  2152-09-12 00:00:00            1  \n",
       "4  2163-05-15 00:00:00  2163-05-15 00:00:00            1  "
      ]
     },
     "execution_count": 29,
     "metadata": {},
     "output_type": "execute_result"
    }
   ],
   "source": [
    "# Get basic demographics\n",
    "patients = mimic.tables['PATIENTS']\n",
    "\n",
    "# Show the first few rows\n",
    "patients.head()"
   ]
  },
  {
   "cell_type": "code",
   "execution_count": 30,
   "metadata": {},
   "outputs": [
    {
     "data": {
      "image/png": "[encoded data removed]",
      "text/plain": [
       "<Figure size 800x500 with 1 Axes>"
      ]
     },
     "metadata": {},
     "output_type": "display_data"
    }
   ],
   "source": [
    "# Gender distribution\n",
    "gender_counts = patients['gender'].value_counts()\n",
    "plt.figure(figsize=(8, 5))\n",
    "sns.barplot(x=gender_counts.index, y=gender_counts.values)\n",
    "plt.title('Gender Distribution')\n",
    "plt.ylabel('Count')\n",
    "plt.show()"
   ]
  },
  {
   "cell_type": "code",
   "execution_count": 31,
   "metadata": {},
   "outputs": [
    {
     "name": "stdout",
     "output_type": "stream",
     "text": [
      "[2025-03-14 17:31:09] Created timeline for patient 10006 with 2937 events\n",
      "Patient Information:\n",
      "subject_id: 10006\n",
      "gender: F\n",
      "dob: 2094-03-05 00:00:00\n",
      "dod: 2165-08-12 00:00:00\n",
      "expire_flag: 1\n",
      "admissions: 1\n",
      "icustays: 1\n"
     ]
    }
   ],
   "source": [
    "# Create a single patient timeline as an example\n",
    "# Choose the first patient ID\n",
    "sample_patient_id = patients['subject_id'].iloc[0]\n",
    "patient_timeline = mimic.create_patient_timeline(sample_patient_id)\n",
    "\n",
    "# Print patient info\n",
    "print(\"Patient Information:\")\n",
    "for key, value in patient_timeline['info'].items():\n",
    "    print(f\"{key}: {value}\")"
   ]
  },
  {
   "cell_type": "code",
   "execution_count": 32,
   "metadata": {},
   "outputs": [
    {
     "name": "stdout",
     "output_type": "stream",
     "text": [
      "Event type distribution:\n",
      "event_type\n",
      "lab           1963\n",
      "chart          920\n",
      "medication      54\n",
      "Name: count, dtype: int64\n"
     ]
    },
    {
     "data": {
      "text/plain": [
       "<Figure size 1400x600 with 0 Axes>"
      ]
     },
     "metadata": {},
     "output_type": "display_data"
    },
    {
     "data": {
      "image/png": "[encoded data removed]",
      "text/plain": [
       "<Figure size 1200x600 with 1 Axes>"
      ]
     },
     "metadata": {},
     "output_type": "display_data"
    }
   ],
   "source": [
    "# Examine timeline events\n",
    "timeline = patient_timeline['timeline']\n",
    "if not timeline.empty:\n",
    "    # Count event types\n",
    "    event_counts = timeline['event_type'].value_counts()\n",
    "    print(\"Event type distribution:\")\n",
    "    print(event_counts)\n",
    "    \n",
    "    # Plot event distribution over time\n",
    "    plt.figure(figsize=(14, 6))\n",
    "    \n",
    "    # Get the event counts per day\n",
    "    timeline['date'] = timeline['measurement_time'].dt.date\n",
    "    daily_counts = timeline.groupby(['date', 'event_type']).size().unstack().fillna(0)\n",
    "    \n",
    "    daily_counts.plot(kind='bar', stacked=True)\n",
    "    plt.title(f'Daily Events for Patient {sample_patient_id}')\n",
    "    plt.ylabel('Number of Events')\n",
    "    plt.xlabel('Date')\n",
    "    plt.xticks(rotation=45)\n",
    "    plt.tight_layout()\n",
    "    plt.show()\n",
    "else:\n",
    "    print(\"No timeline events found for this patient\")"
   ]
  }
 ],
 "metadata": {
  "kernelspec": {
   "display_name": "Python 3 (ipykernel)",
   "language": "python",
   "name": "python3"
  },
  "language_info": {
   "codemirror_mode": {
    "name": "ipython",
    "version": 3
   },
   "file_extension": ".py",
   "mimetype": "text/x-python",
   "name": "python",
   "nbconvert_exporter": "python",
   "pygments_lexer": "ipython3",
   "version": "3.13.2"
  }
 },
 "nbformat": 4,
 "nbformat_minor": 4
}
